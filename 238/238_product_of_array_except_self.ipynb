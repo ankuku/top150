{
 "cells": [
  {
   "cell_type": "code",
   "execution_count": 19,
   "metadata": {},
   "outputs": [],
   "source": [
    "nums = [1, 2, 3, 4]"
   ]
  },
  {
   "cell_type": "code",
   "execution_count": 20,
   "metadata": {},
   "outputs": [],
   "source": [
    "left = [1] * len(nums)\n",
    "right = [1] * len(nums)"
   ]
  },
  {
   "cell_type": "code",
   "execution_count": 21,
   "metadata": {},
   "outputs": [
    {
     "name": "stdout",
     "output_type": "stream",
     "text": [
      "left[1] = left[0]: 1 * nums[0]: 1 = 1\n",
      "left[2] = left[1]: 1 * nums[1]: 2 = 2\n",
      "left[3] = left[2]: 2 * nums[2]: 3 = 6\n"
     ]
    }
   ],
   "source": [
    "for i in range(1, len(nums)):\n",
    "    left[i] = left[i - 1] * nums[i - 1]\n",
    "    print(f\"left[{i}] = left[{i-1}]: {left[i-1]} * nums[{i-1}]: {nums[i - 1]} = {left[i]}\")"
   ]
  },
  {
   "cell_type": "code",
   "execution_count": 22,
   "metadata": {},
   "outputs": [
    {
     "name": "stdout",
     "output_type": "stream",
     "text": [
      "[1, 1, 2, 6]\n"
     ]
    }
   ],
   "source": [
    "print(left)"
   ]
  },
  {
   "cell_type": "code",
   "execution_count": 15,
   "metadata": {},
   "outputs": [
    {
     "name": "stdout",
     "output_type": "stream",
     "text": [
      "left[3] = 6\n",
      "left[2] = 8\n",
      "left[1] = 12\n",
      "left[0] = 24\n"
     ]
    }
   ],
   "source": [
    "right_product = 1\n",
    "for i in range(len(nums) - 1, -1, -1):\n",
    "    left[i] *= right_product\n",
    "    right_product *= nums[i]\n",
    "    print(f\"left[{i}] = {left[i]}\")   "
   ]
  },
  {
   "cell_type": "code",
   "execution_count": 23,
   "metadata": {},
   "outputs": [],
   "source": [
    "for i in range(len(nums) - 2, -1, -1):\n",
    "    right[i] = right[i + 1] * nums[i + 1]"
   ]
  },
  {
   "cell_type": "code",
   "execution_count": 18,
   "metadata": {},
   "outputs": [
    {
     "name": "stdout",
     "output_type": "stream",
     "text": [
      "[24, 12, 4, 1]\n"
     ]
    }
   ],
   "source": [
    "print(right)"
   ]
  },
  {
   "cell_type": "code",
   "execution_count": null,
   "metadata": {},
   "outputs": [],
   "source": []
  }
 ],
 "metadata": {
  "kernelspec": {
   "display_name": ".venv",
   "language": "python",
   "name": "python3"
  },
  "language_info": {
   "codemirror_mode": {
    "name": "ipython",
    "version": 3
   },
   "file_extension": ".py",
   "mimetype": "text/x-python",
   "name": "python",
   "nbconvert_exporter": "python",
   "pygments_lexer": "ipython3",
   "version": "3.12.3"
  }
 },
 "nbformat": 4,
 "nbformat_minor": 2
}
