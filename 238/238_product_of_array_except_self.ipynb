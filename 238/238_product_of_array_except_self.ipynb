{
 "cells": [
  {
   "cell_type": "code",
   "execution_count": 1,
   "metadata": {},
   "outputs": [],
   "source": [
    "nums = [1, 2, 3, 4]"
   ]
  },
  {
   "cell_type": "code",
   "execution_count": 5,
   "metadata": {},
   "outputs": [],
   "source": [
    "len_of_list = len(nums)\n",
    "output = [1] * len_of_list\n",
    "left_product = 1"
   ]
  },
  {
   "cell_type": "code",
   "execution_count": 3,
   "metadata": {},
   "outputs": [
    {
     "name": "stdout",
     "output_type": "stream",
     "text": [
      "Output so far: [1, 1, 1, 1]\n",
      "Updated left product: 1\n",
      "Output so far: [1, 1, 1, 1]\n",
      "Updated left product: 2\n",
      "Output so far: [1, 1, 2, 1]\n",
      "Updated left product: 6\n",
      "Output so far: [1, 1, 2, 6]\n",
      "Updated left product: 24\n"
     ]
    }
   ],
   "source": [
    "for i in range(len_of_list):\n",
    "    print(f\"Current i value [{i}]: {nums[i]}\")\n",
    "    output[i] = left_product\n",
    "    print(f\"Output so far: {output}\")\n",
    "    left_product *= nums[i]\n",
    "    print(f\"Updated left product: {left_product}\")"
   ]
  },
  {
   "cell_type": "code",
   "execution_count": 4,
   "metadata": {},
   "outputs": [
    {
     "name": "stdout",
     "output_type": "stream",
     "text": [
      "Output so far: [1, 1, 2, 1]\n",
      "Updated left product: 4\n",
      "Output so far: [1, 1, 4, 1]\n",
      "Updated left product: 12\n",
      "Output so far: [1, 12, 4, 1]\n",
      "Updated left product: 24\n",
      "Output so far: [24, 12, 4, 1]\n",
      "Updated left product: 24\n"
     ]
    }
   ],
   "source": [
    "right_product = 1\n",
    "for i in range(len_of_list - 1, -1, -1):\n",
    "    print(f\"Current i value [{i}]: {nums[i]}\")\n",
    "    output[i] = right_product\n",
    "    print(f\"Output so far: {output}\")\n",
    "    right_product *= nums[i]\n",
    "    print(f\"Updated left product: {right_product}\")"
   ]
  },
  {
   "cell_type": "code",
   "execution_count": null,
   "metadata": {},
   "outputs": [],
   "source": []
  },
  {
   "cell_type": "code",
   "execution_count": null,
   "metadata": {},
   "outputs": [],
   "source": []
  },
  {
   "cell_type": "code",
   "execution_count": null,
   "metadata": {},
   "outputs": [],
   "source": []
  },
  {
   "cell_type": "code",
   "execution_count": null,
   "metadata": {},
   "outputs": [],
   "source": []
  },
  {
   "cell_type": "code",
   "execution_count": 20,
   "metadata": {},
   "outputs": [],
   "source": [
    "left = [1] * len(nums)\n",
    "right = [1] * len(nums)"
   ]
  },
  {
   "cell_type": "code",
   "execution_count": 21,
   "metadata": {},
   "outputs": [
    {
     "name": "stdout",
     "output_type": "stream",
     "text": [
      "left[1] = left[0]: 1 * nums[0]: 1 = 1\n",
      "left[2] = left[1]: 1 * nums[1]: 2 = 2\n",
      "left[3] = left[2]: 2 * nums[2]: 3 = 6\n"
     ]
    }
   ],
   "source": [
    "for i in range(1, len(nums)):\n",
    "    left[i] = left[i - 1] * nums[i - 1]\n",
    "    print(f\"left[{i}] = left[{i-1}]: {left[i-1]} * nums[{i-1}]: {nums[i - 1]} = {left[i]}\")"
   ]
  },
  {
   "cell_type": "code",
   "execution_count": 22,
   "metadata": {},
   "outputs": [
    {
     "name": "stdout",
     "output_type": "stream",
     "text": [
      "[1, 1, 2, 6]\n"
     ]
    }
   ],
   "source": [
    "print(left)"
   ]
  },
  {
   "cell_type": "code",
   "execution_count": 15,
   "metadata": {},
   "outputs": [
    {
     "name": "stdout",
     "output_type": "stream",
     "text": [
      "left[3] = 6\n",
      "left[2] = 8\n",
      "left[1] = 12\n",
      "left[0] = 24\n"
     ]
    }
   ],
   "source": [
    "right_product = 1\n",
    "for i in range(len(nums) - 1, -1, -1):\n",
    "    left[i] *= right_product\n",
    "    right_product *= nums[i]\n",
    "    print(f\"left[{i}] = {left[i]}\")   "
   ]
  },
  {
   "cell_type": "code",
   "execution_count": 23,
   "metadata": {},
   "outputs": [],
   "source": [
    "for i in range(len(nums) - 2, -1, -1):\n",
    "    right[i] = right[i + 1] * nums[i + 1]"
   ]
  },
  {
   "cell_type": "code",
   "execution_count": 18,
   "metadata": {},
   "outputs": [
    {
     "name": "stdout",
     "output_type": "stream",
     "text": [
      "[24, 12, 4, 1]\n"
     ]
    }
   ],
   "source": [
    "print(right)"
   ]
  },
  {
   "cell_type": "code",
   "execution_count": null,
   "metadata": {},
   "outputs": [],
   "source": []
  }
 ],
 "metadata": {
  "kernelspec": {
   "display_name": ".venv",
   "language": "python",
   "name": "python3"
  },
  "language_info": {
   "codemirror_mode": {
    "name": "ipython",
    "version": 3
   },
   "file_extension": ".py",
   "mimetype": "text/x-python",
   "name": "python",
   "nbconvert_exporter": "python",
   "pygments_lexer": "ipython3",
   "version": "3.12.8"
  }
 },
 "nbformat": 4,
 "nbformat_minor": 2
}
